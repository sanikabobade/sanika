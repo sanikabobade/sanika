{
 "cells": [
  {
   "cell_type": "code",
   "execution_count": 1,
   "id": "f190caea-1ed3-485a-983a-f2941df4c6c7",
   "metadata": {},
   "outputs": [],
   "source": [
    "import pandas as pd\n",
    "import numpy as nm\n",
    "import matplotlib.pyplot as plt\n",
    "import seaborn as sns"
   ]
  },
  {
   "cell_type": "code",
   "execution_count": 44,
   "id": "8e6b4924-4ad6-4033-83de-0580c631a91a",
   "metadata": {},
   "outputs": [
    {
     "data": {
      "text/html": [
       "<div>\n",
       "<style scoped>\n",
       "    .dataframe tbody tr th:only-of-type {\n",
       "        vertical-align: middle;\n",
       "    }\n",
       "\n",
       "    .dataframe tbody tr th {\n",
       "        vertical-align: top;\n",
       "    }\n",
       "\n",
       "    .dataframe thead th {\n",
       "        text-align: right;\n",
       "    }\n",
       "</style>\n",
       "<table border=\"1\" class=\"dataframe\">\n",
       "  <thead>\n",
       "    <tr style=\"text-align: right;\">\n",
       "      <th></th>\n",
       "      <th>CustomerID</th>\n",
       "      <th>Product</th>\n",
       "      <th>Price</th>\n",
       "      <th>Quantity</th>\n",
       "      <th>City</th>\n",
       "      <th>PurchaseDate</th>\n",
       "    </tr>\n",
       "  </thead>\n",
       "  <tbody>\n",
       "    <tr>\n",
       "      <th>0</th>\n",
       "      <td>1052</td>\n",
       "      <td>Desktop</td>\n",
       "      <td>NaN</td>\n",
       "      <td>4.0</td>\n",
       "      <td>Bangalore</td>\n",
       "      <td>2021-06-30</td>\n",
       "    </tr>\n",
       "    <tr>\n",
       "      <th>1</th>\n",
       "      <td>1041</td>\n",
       "      <td>Desktop</td>\n",
       "      <td>NaN</td>\n",
       "      <td>3.0</td>\n",
       "      <td>Delhi</td>\n",
       "      <td>2023-01-21</td>\n",
       "    </tr>\n",
       "    <tr>\n",
       "      <th>2</th>\n",
       "      <td>1057</td>\n",
       "      <td>Smartphone</td>\n",
       "      <td>forty-five thousand</td>\n",
       "      <td>2.0</td>\n",
       "      <td>Bangalore</td>\n",
       "      <td>2023-04-06</td>\n",
       "    </tr>\n",
       "    <tr>\n",
       "      <th>3</th>\n",
       "      <td>1038</td>\n",
       "      <td>Tablet</td>\n",
       "      <td>45000.0</td>\n",
       "      <td>1.0</td>\n",
       "      <td>Chennai</td>\n",
       "      <td>2023-07-05</td>\n",
       "    </tr>\n",
       "    <tr>\n",
       "      <th>4</th>\n",
       "      <td>1013</td>\n",
       "      <td>Smartphone</td>\n",
       "      <td>45000.0</td>\n",
       "      <td>NaN</td>\n",
       "      <td>Mumbai</td>\n",
       "      <td>2022-04-11</td>\n",
       "    </tr>\n",
       "    <tr>\n",
       "      <th>5</th>\n",
       "      <td>1094</td>\n",
       "      <td>Laptop</td>\n",
       "      <td>60000.0</td>\n",
       "      <td>two</td>\n",
       "      <td>Mumbai</td>\n",
       "      <td>2022-03-12</td>\n",
       "    </tr>\n",
       "    <tr>\n",
       "      <th>6</th>\n",
       "      <td>1004</td>\n",
       "      <td>Laptop</td>\n",
       "      <td>30000.0</td>\n",
       "      <td>2.0</td>\n",
       "      <td>Chennai</td>\n",
       "      <td>2022-02-25</td>\n",
       "    </tr>\n",
       "    <tr>\n",
       "      <th>7</th>\n",
       "      <td>1034</td>\n",
       "      <td>Laptop</td>\n",
       "      <td>30000.0</td>\n",
       "      <td>2.0</td>\n",
       "      <td>Chennai</td>\n",
       "      <td>2022-12-22</td>\n",
       "    </tr>\n",
       "    <tr>\n",
       "      <th>8</th>\n",
       "      <td>1086</td>\n",
       "      <td>Laptop</td>\n",
       "      <td>30000.0</td>\n",
       "      <td>3.0</td>\n",
       "      <td>Delhi</td>\n",
       "      <td>2022-10-23</td>\n",
       "    </tr>\n",
       "    <tr>\n",
       "      <th>9</th>\n",
       "      <td>1092</td>\n",
       "      <td>Desktop</td>\n",
       "      <td>30000.0</td>\n",
       "      <td>3.0</td>\n",
       "      <td>Mumbai</td>\n",
       "      <td>2022-03-12</td>\n",
       "    </tr>\n",
       "  </tbody>\n",
       "</table>\n",
       "</div>"
      ],
      "text/plain": [
       "   CustomerID     Product                Price Quantity       City  \\\n",
       "0        1052     Desktop                  NaN      4.0  Bangalore   \n",
       "1        1041     Desktop                  NaN      3.0      Delhi   \n",
       "2        1057  Smartphone  forty-five thousand      2.0  Bangalore   \n",
       "3        1038      Tablet              45000.0      1.0    Chennai   \n",
       "4        1013  Smartphone              45000.0      NaN     Mumbai   \n",
       "5        1094      Laptop              60000.0      two     Mumbai   \n",
       "6        1004      Laptop              30000.0      2.0    Chennai   \n",
       "7        1034      Laptop              30000.0      2.0    Chennai   \n",
       "8        1086      Laptop              30000.0      3.0      Delhi   \n",
       "9        1092     Desktop              30000.0      3.0     Mumbai   \n",
       "\n",
       "  PurchaseDate  \n",
       "0   2021-06-30  \n",
       "1   2023-01-21  \n",
       "2   2023-04-06  \n",
       "3   2023-07-05  \n",
       "4   2022-04-11  \n",
       "5   2022-03-12  \n",
       "6   2022-02-25  \n",
       "7   2022-12-22  \n",
       "8   2022-10-23  \n",
       "9   2022-03-12  "
      ]
     },
     "execution_count": 44,
     "metadata": {},
     "output_type": "execute_result"
    }
   ],
   "source": [
    "ds=pd.read_csv(\"product_data.csv\")\n",
    "ds.head(10)"
   ]
  },
  {
   "cell_type": "code",
   "execution_count": 40,
   "id": "69912553-a103-4684-a26c-052ff4eedecf",
   "metadata": {},
   "outputs": [
    {
     "name": "stdout",
     "output_type": "stream",
     "text": [
      "<class 'pandas.core.frame.DataFrame'>\n",
      "RangeIndex: 125 entries, 0 to 124\n",
      "Data columns (total 6 columns):\n",
      " #   Column        Non-Null Count  Dtype  \n",
      "---  ------        --------------  -----  \n",
      " 0   CustomerID    125 non-null    int64  \n",
      " 1   Product       125 non-null    object \n",
      " 2   Price         102 non-null    float64\n",
      " 3   Quantity      98 non-null     object \n",
      " 4   City          125 non-null    object \n",
      " 5   PurchaseDate  125 non-null    object \n",
      "dtypes: float64(1), int64(1), object(4)\n",
      "memory usage: 6.0+ KB\n"
     ]
    }
   ],
   "source": [
    "ds.info()"
   ]
  },
  {
   "cell_type": "code",
   "execution_count": 6,
   "id": "30a318d4-a4aa-486e-a1dd-3111f2610d46",
   "metadata": {},
   "outputs": [
    {
     "data": {
      "text/html": [
       "<div>\n",
       "<style scoped>\n",
       "    .dataframe tbody tr th:only-of-type {\n",
       "        vertical-align: middle;\n",
       "    }\n",
       "\n",
       "    .dataframe tbody tr th {\n",
       "        vertical-align: top;\n",
       "    }\n",
       "\n",
       "    .dataframe thead th {\n",
       "        text-align: right;\n",
       "    }\n",
       "</style>\n",
       "<table border=\"1\" class=\"dataframe\">\n",
       "  <thead>\n",
       "    <tr style=\"text-align: right;\">\n",
       "      <th></th>\n",
       "      <th>CustomerID</th>\n",
       "    </tr>\n",
       "  </thead>\n",
       "  <tbody>\n",
       "    <tr>\n",
       "      <th>count</th>\n",
       "      <td>125.000000</td>\n",
       "    </tr>\n",
       "    <tr>\n",
       "      <th>mean</th>\n",
       "      <td>1045.936000</td>\n",
       "    </tr>\n",
       "    <tr>\n",
       "      <th>std</th>\n",
       "      <td>28.183942</td>\n",
       "    </tr>\n",
       "    <tr>\n",
       "      <th>min</th>\n",
       "      <td>1000.000000</td>\n",
       "    </tr>\n",
       "    <tr>\n",
       "      <th>25%</th>\n",
       "      <td>1019.000000</td>\n",
       "    </tr>\n",
       "    <tr>\n",
       "      <th>50%</th>\n",
       "      <td>1044.000000</td>\n",
       "    </tr>\n",
       "    <tr>\n",
       "      <th>75%</th>\n",
       "      <td>1071.000000</td>\n",
       "    </tr>\n",
       "    <tr>\n",
       "      <th>max</th>\n",
       "      <td>1098.000000</td>\n",
       "    </tr>\n",
       "  </tbody>\n",
       "</table>\n",
       "</div>"
      ],
      "text/plain": [
       "        CustomerID\n",
       "count   125.000000\n",
       "mean   1045.936000\n",
       "std      28.183942\n",
       "min    1000.000000\n",
       "25%    1019.000000\n",
       "50%    1044.000000\n",
       "75%    1071.000000\n",
       "max    1098.000000"
      ]
     },
     "execution_count": 6,
     "metadata": {},
     "output_type": "execute_result"
    }
   ],
   "source": [
    "ds.describe()"
   ]
  },
  {
   "cell_type": "code",
   "execution_count": 33,
   "id": "70af02af-b7e1-4010-945b-bfca4af05241",
   "metadata": {},
   "outputs": [
    {
     "data": {
      "text/plain": [
       "np.int64(0)"
      ]
     },
     "execution_count": 33,
     "metadata": {},
     "output_type": "execute_result"
    }
   ],
   "source": [
    "ds.duplicated().sum() "
   ]
  },
  {
   "cell_type": "code",
   "execution_count": 32,
   "id": "4f3a3978-2ef9-49ff-89c8-50388db9863c",
   "metadata": {},
   "outputs": [],
   "source": [
    "ds.drop_duplicates(inplace=True)"
   ]
  },
  {
   "cell_type": "code",
   "execution_count": 34,
   "id": "cb35da18-8b2c-48aa-9e94-555626a8202f",
   "metadata": {},
   "outputs": [
    {
     "data": {
      "text/plain": [
       "Index(['CustomerID', 'Product', 'Price', 'Quantity', 'City', 'PurchaseDate'], dtype='object')"
      ]
     },
     "execution_count": 34,
     "metadata": {},
     "output_type": "execute_result"
    }
   ],
   "source": [
    "ds.columns"
   ]
  },
  {
   "cell_type": "code",
   "execution_count": 52,
   "id": "e5210901-33ee-49a5-a148-a8226cc9881c",
   "metadata": {},
   "outputs": [],
   "source": [
    "#\n",
    "\n",
    "ds['Price']=pd.to_numeric(ds['Price'],errors='coerce')"
   ]
  },
  {
   "cell_type": "code",
   "execution_count": 66,
   "id": "77232d9b-2bd5-4dc1-8159-f6c744be7c99",
   "metadata": {},
   "outputs": [
    {
     "name": "stdout",
     "output_type": "stream",
     "text": [
      "     CustomerID     Product    Price  Quantity       City PurchaseDate\n",
      "0          1052     Desktop  30000.0   4.00000  Bangalore   2021-06-30\n",
      "1          1041     Desktop  30000.0   3.00000      Delhi   2023-01-21\n",
      "2          1057  Smartphone  30000.0   2.00000  Bangalore   2023-04-06\n",
      "3          1038      Tablet  45000.0   1.00000    Chennai   2023-07-05\n",
      "4          1013  Smartphone  45000.0   2.43299     Mumbai   2022-04-11\n",
      "5          1094      Laptop  60000.0   2.43299     Mumbai   2022-03-12\n",
      "6          1004      Laptop  30000.0   2.00000    Chennai   2022-02-25\n",
      "7          1034      Laptop  30000.0   2.00000    Chennai   2022-12-22\n",
      "8          1086      Laptop  30000.0   3.00000      Delhi   2022-10-23\n",
      "9          1092     Desktop  30000.0   3.00000     Mumbai   2022-03-12\n",
      "10         1074      Laptop  45000.0   2.43299  Bangalore   2021-08-14\n",
      "11         1017     Desktop  45000.0   2.43299       Pune   2022-08-09\n",
      "12         1075     Desktop  30000.0   1.00000       Pune   2021-09-28\n",
      "13         1008      Laptop  60000.0   1.00000    Chennai   2021-09-13\n",
      "14         1073      Laptop  15000.0   2.43299      Delhi   2021-01-01\n",
      "15         1057      Tablet  15000.0   2.43299       Pune   2022-11-22\n",
      "16         1016  Smartphone  60000.0   4.00000     Mumbai   2023-09-03\n",
      "17         1006      Laptop  30000.0   3.00000    Chennai   2022-07-10\n",
      "18         1045      Tablet  45000.0   1.00000  Bangalore   2023-01-21\n",
      "19         1012      Tablet  15000.0   3.00000    Chennai   2023-07-20\n",
      "20         1039  Smartphone  30000.0   3.00000  Bangalore   2021-02-15\n",
      "21         1041     Desktop  30000.0   2.43299    Chennai   2021-01-01\n",
      "22         1008      Laptop  60000.0   4.00000    Chennai   2021-04-16\n",
      "23         1049  Smartphone  30000.0   2.00000    Chennai   2022-02-25\n",
      "24         1026      Laptop  15000.0   4.00000  Bangalore   2023-03-22\n",
      "25         1065      Tablet  30000.0   4.00000  Bangalore   2021-01-31\n",
      "26         1004      Tablet  15000.0   3.00000    Chennai   2022-04-11\n",
      "27         1028     Desktop  60000.0   4.00000       Pune   2021-05-16\n",
      "28         1036      Tablet  60000.0   1.00000      Delhi   2022-05-11\n",
      "29         1037      Tablet  30000.0   3.00000      Delhi   2023-03-22\n",
      "30         1082  Smartphone  30000.0   1.00000      Delhi   2022-04-11\n",
      "31         1007      Laptop  30000.0   2.00000  Bangalore   2023-01-06\n",
      "32         1064      Laptop  30000.0   3.00000  Bangalore   2021-04-01\n",
      "33         1085  Smartphone  30000.0   2.00000       Pune   2021-04-16\n",
      "34         1016     Desktop  45000.0   3.00000      Delhi   2023-08-19\n",
      "35         1070      Laptop  45000.0   2.43299      Delhi   2023-04-21\n",
      "36         1088      Tablet  45000.0   4.00000    Chennai   2023-09-18\n",
      "37         1044      Laptop  45000.0   2.43299  Bangalore   2023-05-21\n",
      "38         1003      Tablet  15000.0   2.00000      Delhi   2023-12-02\n",
      "39         1035     Desktop  45000.0   4.00000       Pune   2023-03-07\n",
      "40         1069  Smartphone  60000.0   3.00000       Pune   2023-09-18\n",
      "41         1030      Laptop  60000.0   4.00000      Delhi   2023-01-21\n",
      "42         1018  Smartphone  15000.0   1.00000  Bangalore   2021-04-16\n",
      "43         1060      Laptop  45000.0   4.00000       Pune   2022-05-11\n",
      "44         1053      Tablet  45000.0   1.00000    Chennai   2022-05-26\n",
      "45         1038  Smartphone  45000.0   4.00000       Pune   2022-04-11\n",
      "46         1090      Laptop  30000.0   1.00000     Mumbai   2022-11-07\n",
      "47         1073      Tablet  30000.0   2.00000     Mumbai   2021-08-14\n",
      "48         1089  Smartphone  30000.0   2.43299  Bangalore   2023-10-03\n",
      "49         1018  Smartphone  30000.0   3.00000      Delhi   2022-06-25\n",
      "50         1038      Laptop  45000.0   4.00000  Bangalore   2023-03-07\n",
      "51         1066      Laptop  45000.0   2.43299  Bangalore   2021-07-15\n",
      "52         1044      Laptop  30000.0   3.00000  Bangalore   2023-03-22\n",
      "53         1012      Tablet  30000.0   3.00000  Bangalore   2022-12-07\n",
      "54         1091      Laptop  30000.0   1.00000    Chennai   2021-04-01\n",
      "55         1057  Smartphone  60000.0   2.00000    Chennai   2021-04-01\n",
      "56         1019  Smartphone  30000.0   2.00000       Pune   2022-04-26\n",
      "57         1091      Laptop  30000.0   2.43299     Mumbai   2021-11-27\n",
      "58         1071      Laptop  30000.0   2.00000  Bangalore   2021-09-28\n",
      "59         1060     Desktop  15000.0   4.00000       Pune   2021-09-28\n",
      "60         1038  Smartphone  30000.0   2.00000     Mumbai   2022-06-10\n",
      "61         1000      Tablet  15000.0   2.43299      Delhi   2022-02-25\n",
      "62         1002     Desktop  60000.0   2.00000    Chennai   2023-06-05\n",
      "63         1076      Laptop  30000.0   4.00000     Mumbai   2021-01-16\n",
      "64         1091      Laptop  30000.0   1.00000      Delhi   2021-01-01\n",
      "65         1061  Smartphone  15000.0   2.43299     Mumbai   2022-11-22\n",
      "66         1062      Laptop  30000.0   1.00000    Chennai   2023-10-18\n",
      "67         1024      Tablet  30000.0   1.00000    Chennai   2021-10-13\n",
      "68         1055  Smartphone  45000.0   1.00000       Pune   2021-05-31\n",
      "69         1032      Laptop  15000.0   3.00000  Bangalore   2021-01-16\n",
      "70         1037  Smartphone  30000.0   3.00000     Mumbai   2023-09-18\n",
      "71         1005      Laptop  15000.0   1.00000     Mumbai   2021-06-15\n",
      "72         1057      Laptop  15000.0   2.43299      Delhi   2021-10-13\n",
      "73         1043      Laptop  45000.0   4.00000    Chennai   2021-03-02\n",
      "74         1044      Tablet  30000.0   4.00000     Mumbai   2022-06-25\n",
      "75         1031      Tablet  15000.0   2.00000    Chennai   2022-07-10\n",
      "76         1044  Smartphone  30000.0   2.43299     Mumbai   2021-05-01\n",
      "77         1060      Laptop  60000.0   3.00000       Pune   2023-02-20\n",
      "78         1046      Laptop  15000.0   1.00000  Bangalore   2022-10-08\n",
      "79         1020      Tablet  15000.0   2.00000     Mumbai   2021-12-12\n",
      "80         1079      Laptop  45000.0   4.00000    Chennai   2022-03-12\n",
      "81         1084      Tablet  30000.0   3.00000       Pune   2023-05-21\n",
      "82         1074      Laptop  60000.0   3.00000     Mumbai   2021-07-15\n",
      "83         1035  Smartphone  30000.0   1.00000      Delhi   2021-05-01\n",
      "84         1098      Laptop  60000.0   4.00000  Bangalore   2022-08-09\n",
      "85         1018      Laptop  30000.0   2.43299     Mumbai   2023-09-03\n",
      "86         1019     Desktop  30000.0   3.00000       Pune   2021-12-27\n",
      "87         1056      Tablet  30000.0   1.00000      Delhi   2023-12-17\n",
      "88         1017      Laptop  45000.0   2.43299       Pune   2021-11-12\n",
      "89         1046      Laptop  45000.0   4.00000       Pune   2021-02-15\n",
      "90         1048     Desktop  45000.0   3.00000      Delhi   2022-01-11\n",
      "91         1013     Desktop  45000.0   2.43299       Pune   2023-05-06\n",
      "92         1014      Tablet  60000.0   2.43299      Delhi   2022-02-25\n",
      "93         1030     Desktop  30000.0   2.43299     Mumbai   2022-06-25\n",
      "94         1000  Smartphone  30000.0   3.00000      Delhi   2023-11-02\n",
      "95         1053     Desktop  30000.0   3.00000      Delhi   2021-09-13\n",
      "96         1002  Smartphone  45000.0   2.00000  Bangalore   2022-09-08\n",
      "97         1015      Tablet  45000.0   4.00000      Delhi   2022-08-24\n",
      "98         1086      Tablet  15000.0   1.00000      Delhi   2022-07-10\n",
      "99         1056      Tablet  30000.0   2.43299     Mumbai   2022-05-11\n",
      "100        1074      Tablet  60000.0   2.00000  Bangalore   2021-08-29\n",
      "101        1011      Tablet  30000.0   1.00000    Chennai   2022-06-25\n",
      "102        1073  Smartphone  15000.0   2.00000     Mumbai   2021-12-27\n",
      "103        1095  Smartphone  15000.0   3.00000     Mumbai   2022-01-26\n",
      "104        1015      Tablet  30000.0   2.43299    Chennai   2023-04-21\n",
      "105        1071     Desktop  60000.0   1.00000      Delhi   2022-03-27\n",
      "106        1075      Laptop  15000.0   1.00000       Pune   2021-03-17\n",
      "107        1023      Tablet  15000.0   1.00000  Bangalore   2022-08-09\n",
      "108        1027     Desktop  30000.0   1.00000       Pune   2021-06-15\n",
      "109        1007      Laptop  60000.0   1.00000    Chennai   2023-02-20\n",
      "110        1091      Tablet  15000.0   2.00000     Mumbai   2023-11-17\n",
      "111        1035      Tablet  60000.0   2.43299     Mumbai   2021-05-16\n",
      "112        1089  Smartphone  30000.0   3.00000  Bangalore   2022-10-23\n",
      "113        1007      Laptop  45000.0   3.00000     Mumbai   2021-08-29\n",
      "114        1057      Laptop  15000.0   3.00000     Mumbai   2022-01-11\n",
      "115        1059     Desktop  30000.0   3.00000  Bangalore   2023-07-05\n",
      "116        1049  Smartphone  30000.0   2.00000  Bangalore   2022-11-07\n",
      "117        1027  Smartphone  60000.0   4.00000    Chennai   2023-08-04\n",
      "118        1091  Smartphone  30000.0   2.43299     Mumbai   2021-01-16\n",
      "119        1040  Smartphone  15000.0   1.00000     Mumbai   2023-03-07\n",
      "120        1074      Laptop  45000.0   2.43299  Bangalore   2021-08-14\n",
      "121        1017     Desktop  45000.0   2.43299       Pune   2022-08-09\n",
      "122        1075     Desktop  30000.0   1.00000       Pune   2021-09-28\n",
      "123        1008      Laptop  60000.0   1.00000    Chennai   2021-09-13\n",
      "124        1073      Laptop  15000.0   2.43299      Delhi   2021-01-01\n"
     ]
    }
   ],
   "source": [
    "print(ds.to_string())"
   ]
  },
  {
   "cell_type": "code",
   "execution_count": 67,
   "id": "98139655-4934-4914-94bc-169aeb2ae522",
   "metadata": {},
   "outputs": [
    {
     "name": "stdout",
     "output_type": "stream",
     "text": [
      "<class 'pandas.core.frame.DataFrame'>\n",
      "RangeIndex: 125 entries, 0 to 124\n",
      "Data columns (total 6 columns):\n",
      " #   Column        Non-Null Count  Dtype         \n",
      "---  ------        --------------  -----         \n",
      " 0   CustomerID    125 non-null    int64         \n",
      " 1   Product       125 non-null    object        \n",
      " 2   Price         125 non-null    float64       \n",
      " 3   Quantity      125 non-null    float64       \n",
      " 4   City          125 non-null    object        \n",
      " 5   PurchaseDate  125 non-null    datetime64[ns]\n",
      "dtypes: datetime64[ns](1), float64(2), int64(1), object(2)\n",
      "memory usage: 6.0+ KB\n"
     ]
    }
   ],
   "source": [
    "ds.info()"
   ]
  },
  {
   "cell_type": "code",
   "execution_count": 57,
   "id": "aa0fae62-6eaf-4c7d-b17f-b7f96be86356",
   "metadata": {},
   "outputs": [
    {
     "name": "stderr",
     "output_type": "stream",
     "text": [
      "C:\\Users\\sanik\\AppData\\Local\\Temp\\ipykernel_11224\\311201527.py:2: FutureWarning: A value is trying to be set on a copy of a DataFrame or Series through chained assignment using an inplace method.\n",
      "The behavior will change in pandas 3.0. This inplace method will never work because the intermediate object on which we are setting values always behaves as a copy.\n",
      "\n",
      "For example, when doing 'df[col].method(value, inplace=True)', try using 'df.method({col: value}, inplace=True)' or df[col] = df[col].method(value) instead, to perform the operation inplace on the original object.\n",
      "\n",
      "\n",
      "  ds['Price'].fillna(y,inplace=True)\n"
     ]
    }
   ],
   "source": [
    "y=ds['Price'].median()\n",
    "ds['Price'].fillna(y,inplace=True)"
   ]
  },
  {
   "cell_type": "code",
   "execution_count": 59,
   "id": "8ec35afd-198c-4a7e-94ce-d7a25f123a0a",
   "metadata": {},
   "outputs": [],
   "source": [
    "ds['Quantity']=pd.to_numeric(ds['Quantity'],errors='coerce')"
   ]
  },
  {
   "cell_type": "code",
   "execution_count": 62,
   "id": "a96c4d28-305d-4860-b52c-cfa0477fd7a9",
   "metadata": {},
   "outputs": [
    {
     "name": "stderr",
     "output_type": "stream",
     "text": [
      "C:\\Users\\sanik\\AppData\\Local\\Temp\\ipykernel_11224\\2304366221.py:2: FutureWarning: A value is trying to be set on a copy of a DataFrame or Series through chained assignment using an inplace method.\n",
      "The behavior will change in pandas 3.0. This inplace method will never work because the intermediate object on which we are setting values always behaves as a copy.\n",
      "\n",
      "For example, when doing 'df[col].method(value, inplace=True)', try using 'df.method({col: value}, inplace=True)' or df[col] = df[col].method(value) instead, to perform the operation inplace on the original object.\n",
      "\n",
      "\n",
      "  ds['Quantity'].fillna(x,inplace=True)\n"
     ]
    }
   ],
   "source": [
    "x=ds['Quantity'].mean()\n",
    "ds['Quantity'].fillna(x,inplace=True)"
   ]
  },
  {
   "cell_type": "code",
   "execution_count": 65,
   "id": "8a9974a1-f75c-452d-bec3-063943ce0452",
   "metadata": {},
   "outputs": [],
   "source": [
    "ds['PurchaseDate']=pd.to_datetime(ds['PurchaseDate'],errors='coerce')"
   ]
  },
  {
   "cell_type": "code",
   "execution_count": 68,
   "id": "6ec06ed2-5eaf-47f1-a164-ddb39d4175d6",
   "metadata": {},
   "outputs": [],
   "source": [
    "# to save file\n",
    "ds.to_csv(\"data_cl2.csv\")"
   ]
  },
  {
   "cell_type": "code",
   "execution_count": null,
   "id": "bfd5d331-a471-452b-9166-b2e572505622",
   "metadata": {},
   "outputs": [],
   "source": []
  }
 ],
 "metadata": {
  "kernelspec": {
   "display_name": "Python 3 (ipykernel)",
   "language": "python",
   "name": "python3"
  },
  "language_info": {
   "codemirror_mode": {
    "name": "ipython",
    "version": 3
   },
   "file_extension": ".py",
   "mimetype": "text/x-python",
   "name": "python",
   "nbconvert_exporter": "python",
   "pygments_lexer": "ipython3",
   "version": "3.13.4"
  }
 },
 "nbformat": 4,
 "nbformat_minor": 5
}
