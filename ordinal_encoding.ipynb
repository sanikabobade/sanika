{
 "cells": [
  {
   "cell_type": "code",
   "execution_count": 1,
   "id": "7badd48c-8c65-4d34-b2cf-0f1b5c751915",
   "metadata": {},
   "outputs": [],
   "source": [
    "import pandas as pd"
   ]
  },
  {
   "cell_type": "code",
   "execution_count": 2,
   "id": "4b97ea07-f921-4fb4-8b51-1a004cf5738c",
   "metadata": {},
   "outputs": [],
   "source": [
    "data={\n",
    "        'cust':['coo1','coo2','coo3','coo4','coo5'],\n",
    "        'el':['high school','bachelor','masters','phd','masters'],\n",
    "        'pq':['low','high','medium','high','low'],\n",
    "        'sl':['poor','average','excelent','average','poor']\n",
    "    \n",
    "}\n",
    "\n",
    "df=pd.DataFrame(data)"
   ]
  },
  {
   "cell_type": "code",
   "execution_count": 3,
   "id": "e9af0cb8-24e8-4544-9f53-214d4d9119b9",
   "metadata": {},
   "outputs": [
    {
     "data": {
      "text/html": [
       "<div>\n",
       "<style scoped>\n",
       "    .dataframe tbody tr th:only-of-type {\n",
       "        vertical-align: middle;\n",
       "    }\n",
       "\n",
       "    .dataframe tbody tr th {\n",
       "        vertical-align: top;\n",
       "    }\n",
       "\n",
       "    .dataframe thead th {\n",
       "        text-align: right;\n",
       "    }\n",
       "</style>\n",
       "<table border=\"1\" class=\"dataframe\">\n",
       "  <thead>\n",
       "    <tr style=\"text-align: right;\">\n",
       "      <th></th>\n",
       "      <th>cust</th>\n",
       "      <th>el</th>\n",
       "      <th>pq</th>\n",
       "      <th>sl</th>\n",
       "    </tr>\n",
       "  </thead>\n",
       "  <tbody>\n",
       "    <tr>\n",
       "      <th>0</th>\n",
       "      <td>coo1</td>\n",
       "      <td>high school</td>\n",
       "      <td>low</td>\n",
       "      <td>poor</td>\n",
       "    </tr>\n",
       "    <tr>\n",
       "      <th>1</th>\n",
       "      <td>coo2</td>\n",
       "      <td>bachelor</td>\n",
       "      <td>high</td>\n",
       "      <td>average</td>\n",
       "    </tr>\n",
       "    <tr>\n",
       "      <th>2</th>\n",
       "      <td>coo3</td>\n",
       "      <td>masters</td>\n",
       "      <td>medium</td>\n",
       "      <td>excelent</td>\n",
       "    </tr>\n",
       "    <tr>\n",
       "      <th>3</th>\n",
       "      <td>coo4</td>\n",
       "      <td>phd</td>\n",
       "      <td>high</td>\n",
       "      <td>average</td>\n",
       "    </tr>\n",
       "    <tr>\n",
       "      <th>4</th>\n",
       "      <td>coo5</td>\n",
       "      <td>masters</td>\n",
       "      <td>low</td>\n",
       "      <td>poor</td>\n",
       "    </tr>\n",
       "  </tbody>\n",
       "</table>\n",
       "</div>"
      ],
      "text/plain": [
       "   cust           el      pq        sl\n",
       "0  coo1  high school     low      poor\n",
       "1  coo2     bachelor    high   average\n",
       "2  coo3      masters  medium  excelent\n",
       "3  coo4          phd    high   average\n",
       "4  coo5      masters     low      poor"
      ]
     },
     "execution_count": 3,
     "metadata": {},
     "output_type": "execute_result"
    }
   ],
   "source": [
    "df"
   ]
  },
  {
   "cell_type": "code",
   "execution_count": 10,
   "id": "87c6fa25-b93b-414d-b9ab-95b01cb75f46",
   "metadata": {},
   "outputs": [],
   "source": [
    "\n",
    "el=['high school','bachelor','masters','phd']\n",
    "pq=['low','medium','high']\n",
    "sl=['poor','average','excelent']"
   ]
  },
  {
   "cell_type": "code",
   "execution_count": 11,
   "id": "451e23bf-ae2f-4e4b-a76a-d62e4e1d32a9",
   "metadata": {},
   "outputs": [],
   "source": [
    "from sklearn.preprocessing import OrdinalEncoder\n"
   ]
  },
  {
   "cell_type": "code",
   "execution_count": 12,
   "id": "215223c2-199d-4892-bfed-2c5c471ac109",
   "metadata": {},
   "outputs": [],
   "source": [
    "oe=OrdinalEncoder(categories=[el,pq,sl])\n",
    "df[['el','pq','sl']]=oe.fit_transform(df[['el','pq','sl']])"
   ]
  },
  {
   "cell_type": "code",
   "execution_count": 13,
   "id": "47f5db94-ad14-4b92-9f27-459ae47697bf",
   "metadata": {},
   "outputs": [
    {
     "data": {
      "text/html": [
       "<div>\n",
       "<style scoped>\n",
       "    .dataframe tbody tr th:only-of-type {\n",
       "        vertical-align: middle;\n",
       "    }\n",
       "\n",
       "    .dataframe tbody tr th {\n",
       "        vertical-align: top;\n",
       "    }\n",
       "\n",
       "    .dataframe thead th {\n",
       "        text-align: right;\n",
       "    }\n",
       "</style>\n",
       "<table border=\"1\" class=\"dataframe\">\n",
       "  <thead>\n",
       "    <tr style=\"text-align: right;\">\n",
       "      <th></th>\n",
       "      <th>cust</th>\n",
       "      <th>el</th>\n",
       "      <th>pq</th>\n",
       "      <th>sl</th>\n",
       "    </tr>\n",
       "  </thead>\n",
       "  <tbody>\n",
       "    <tr>\n",
       "      <th>0</th>\n",
       "      <td>coo1</td>\n",
       "      <td>0.0</td>\n",
       "      <td>0.0</td>\n",
       "      <td>0.0</td>\n",
       "    </tr>\n",
       "    <tr>\n",
       "      <th>1</th>\n",
       "      <td>coo2</td>\n",
       "      <td>1.0</td>\n",
       "      <td>2.0</td>\n",
       "      <td>1.0</td>\n",
       "    </tr>\n",
       "    <tr>\n",
       "      <th>2</th>\n",
       "      <td>coo3</td>\n",
       "      <td>2.0</td>\n",
       "      <td>1.0</td>\n",
       "      <td>2.0</td>\n",
       "    </tr>\n",
       "    <tr>\n",
       "      <th>3</th>\n",
       "      <td>coo4</td>\n",
       "      <td>3.0</td>\n",
       "      <td>2.0</td>\n",
       "      <td>1.0</td>\n",
       "    </tr>\n",
       "    <tr>\n",
       "      <th>4</th>\n",
       "      <td>coo5</td>\n",
       "      <td>2.0</td>\n",
       "      <td>0.0</td>\n",
       "      <td>0.0</td>\n",
       "    </tr>\n",
       "  </tbody>\n",
       "</table>\n",
       "</div>"
      ],
      "text/plain": [
       "   cust   el   pq   sl\n",
       "0  coo1  0.0  0.0  0.0\n",
       "1  coo2  1.0  2.0  1.0\n",
       "2  coo3  2.0  1.0  2.0\n",
       "3  coo4  3.0  2.0  1.0\n",
       "4  coo5  2.0  0.0  0.0"
      ]
     },
     "execution_count": 13,
     "metadata": {},
     "output_type": "execute_result"
    }
   ],
   "source": [
    "df"
   ]
  },
  {
   "cell_type": "code",
   "execution_count": null,
   "id": "b71c688c-4b46-4a1f-ba54-7730975959a6",
   "metadata": {},
   "outputs": [],
   "source": []
  }
 ],
 "metadata": {
  "kernelspec": {
   "display_name": "Python 3 (ipykernel)",
   "language": "python",
   "name": "python3"
  },
  "language_info": {
   "codemirror_mode": {
    "name": "ipython",
    "version": 3
   },
   "file_extension": ".py",
   "mimetype": "text/x-python",
   "name": "python",
   "nbconvert_exporter": "python",
   "pygments_lexer": "ipython3",
   "version": "3.13.4"
  }
 },
 "nbformat": 4,
 "nbformat_minor": 5
}
